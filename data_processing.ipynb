{
 "cells": [
  {
   "cell_type": "code",
   "execution_count": 1,
   "id": "initial_id",
   "metadata": {
    "collapsed": true,
    "ExecuteTime": {
     "end_time": "2023-10-25T12:46:09.170683900Z",
     "start_time": "2023-10-25T12:46:08.874978800Z"
    }
   },
   "outputs": [],
   "source": [
    "import pandas as pd\n"
   ]
  },
  {
   "cell_type": "code",
   "execution_count": 3,
   "outputs": [],
   "source": [
    "df = pd.read_csv('song_with_features_xl_format.csv',encoding='ISO-8859-1')"
   ],
   "metadata": {
    "collapsed": false,
    "ExecuteTime": {
     "end_time": "2023-10-25T12:46:36.089078900Z",
     "start_time": "2023-10-25T12:46:36.042075600Z"
    }
   },
   "id": "692a913d3a78dfec"
  },
  {
   "cell_type": "code",
   "execution_count": 4,
   "outputs": [
    {
     "data": {
      "text/plain": "                        Name           Artist  \\\n0  Imagine - Remastered 2010      John Lennon   \n1                         ir              NaN   \n2                        * \"          positif   \n3     A Whiter Shade Of Pale     Procol Harum   \n4              My Sweet Lord  George Harrison   \n\n                               Album  \\\n0                            Imagine   \n1                                NaN   \n2             ['Rock', 'Pop', 'Rap']   \n3             A Whiter Shade Of Pale   \n4  All Things Must Pass (Remastered)   \n\n                                          Popularity  \\\n0                                                 79   \n1                                                NaN   \n2  ['Arms', 'et', 'froid', '*', '*', '*', '*', 't...   \n3                                                  0   \n4                                                  0   \n\n                                              Lyrics Sentiment Music Styles  \\\n0  8 ContributorsDiscographie 2021  Pop & Rock L...       NaN          NaN   \n1                                                NaN       NaN          NaN   \n2                                                NaN       NaN          NaN   \n3  38 ContributorsA Whiter Shade of Pale Lyrics[I...   positif           []   \n4  58 ContributorsMy Sweet Lord Lyrics[Chorus]\\nM...   positif     ['Rock']   \n\n                                              Themes  \n0                                                NaN  \n1                                                NaN  \n2                                                NaN  \n3  ['Verse', 'fandango', 'cartwheels', 'floor', '...  \n4  ['ContributorsMy', 'Verse', 'Chorus', 'Chorus'...  ",
      "text/html": "<div>\n<style scoped>\n    .dataframe tbody tr th:only-of-type {\n        vertical-align: middle;\n    }\n\n    .dataframe tbody tr th {\n        vertical-align: top;\n    }\n\n    .dataframe thead th {\n        text-align: right;\n    }\n</style>\n<table border=\"1\" class=\"dataframe\">\n  <thead>\n    <tr style=\"text-align: right;\">\n      <th></th>\n      <th>Name</th>\n      <th>Artist</th>\n      <th>Album</th>\n      <th>Popularity</th>\n      <th>Lyrics</th>\n      <th>Sentiment</th>\n      <th>Music Styles</th>\n      <th>Themes</th>\n    </tr>\n  </thead>\n  <tbody>\n    <tr>\n      <th>0</th>\n      <td>Imagine - Remastered 2010</td>\n      <td>John Lennon</td>\n      <td>Imagine</td>\n      <td>79</td>\n      <td>8 ContributorsDiscographie 2021  Pop &amp; Rock L...</td>\n      <td>NaN</td>\n      <td>NaN</td>\n      <td>NaN</td>\n    </tr>\n    <tr>\n      <th>1</th>\n      <td>ir</td>\n      <td>NaN</td>\n      <td>NaN</td>\n      <td>NaN</td>\n      <td>NaN</td>\n      <td>NaN</td>\n      <td>NaN</td>\n      <td>NaN</td>\n    </tr>\n    <tr>\n      <th>2</th>\n      <td>* \"</td>\n      <td>positif</td>\n      <td>['Rock', 'Pop', 'Rap']</td>\n      <td>['Arms', 'et', 'froid', '*', '*', '*', '*', 't...</td>\n      <td>NaN</td>\n      <td>NaN</td>\n      <td>NaN</td>\n      <td>NaN</td>\n    </tr>\n    <tr>\n      <th>3</th>\n      <td>A Whiter Shade Of Pale</td>\n      <td>Procol Harum</td>\n      <td>A Whiter Shade Of Pale</td>\n      <td>0</td>\n      <td>38 ContributorsA Whiter Shade of Pale Lyrics[I...</td>\n      <td>positif</td>\n      <td>[]</td>\n      <td>['Verse', 'fandango', 'cartwheels', 'floor', '...</td>\n    </tr>\n    <tr>\n      <th>4</th>\n      <td>My Sweet Lord</td>\n      <td>George Harrison</td>\n      <td>All Things Must Pass (Remastered)</td>\n      <td>0</td>\n      <td>58 ContributorsMy Sweet Lord Lyrics[Chorus]\\nM...</td>\n      <td>positif</td>\n      <td>['Rock']</td>\n      <td>['ContributorsMy', 'Verse', 'Chorus', 'Chorus'...</td>\n    </tr>\n  </tbody>\n</table>\n</div>"
     },
     "execution_count": 4,
     "metadata": {},
     "output_type": "execute_result"
    }
   ],
   "source": [
    "df.head(5)"
   ],
   "metadata": {
    "collapsed": false,
    "ExecuteTime": {
     "end_time": "2023-10-25T12:46:43.584185700Z",
     "start_time": "2023-10-25T12:46:43.512234300Z"
    }
   },
   "id": "e7ea57ea79145f0f"
  },
  {
   "cell_type": "code",
   "execution_count": 5,
   "outputs": [
    {
     "data": {
      "text/plain": "Index(['Name', 'Artist', 'Album', 'Popularity', 'Lyrics', 'Sentiment',\n       'Music Styles', 'Themes'],\n      dtype='object')"
     },
     "execution_count": 5,
     "metadata": {},
     "output_type": "execute_result"
    }
   ],
   "source": [
    "df.columns\n"
   ],
   "metadata": {
    "collapsed": false,
    "ExecuteTime": {
     "end_time": "2023-10-25T12:46:57.588129900Z",
     "start_time": "2023-10-25T12:46:57.569131100Z"
    }
   },
   "id": "9340d62dbf71adae"
  },
  {
   "cell_type": "code",
   "execution_count": 6,
   "outputs": [
    {
     "data": {
      "text/plain": "Name             1\nArtist           8\nAlbum           10\nPopularity      10\nLyrics          32\nSentiment       54\nMusic Styles    54\nThemes          54\ndtype: int64"
     },
     "execution_count": 6,
     "metadata": {},
     "output_type": "execute_result"
    }
   ],
   "source": [
    "df.isnull().sum()"
   ],
   "metadata": {
    "collapsed": false,
    "ExecuteTime": {
     "end_time": "2023-10-25T12:47:11.192752300Z",
     "start_time": "2023-10-25T12:47:11.134397300Z"
    }
   },
   "id": "e1c951587097ca14"
  },
  {
   "cell_type": "code",
   "execution_count": 7,
   "outputs": [],
   "source": [
    "df['Lyrics'] = df['Lyrics'].str.lower().replace(r'^\\w\\s', ' ').replace(r'\\n', ' ', regex = True)"
   ],
   "metadata": {
    "collapsed": false,
    "ExecuteTime": {
     "end_time": "2023-10-25T12:52:09.458527700Z",
     "start_time": "2023-10-25T12:52:09.430440300Z"
    }
   },
   "id": "5121622a81ac91d1"
  },
  {
   "cell_type": "code",
   "execution_count": 8,
   "outputs": [],
   "source": [
    "df['Lyrics'] = df['Lyrics'].str.replace(r'\\[.*?\\]', ' ', regex = True)"
   ],
   "metadata": {
    "collapsed": false,
    "ExecuteTime": {
     "end_time": "2023-10-25T12:52:19.832352200Z",
     "start_time": "2023-10-25T12:52:19.811253900Z"
    }
   },
   "id": "6224f7b5fb84aef3"
  },
  {
   "cell_type": "code",
   "execution_count": 13,
   "outputs": [
    {
     "name": "stderr",
     "output_type": "stream",
     "text": [
      "[nltk_data] Downloading package punkt to\n",
      "[nltk_data]     C:\\Users\\adrie\\AppData\\Roaming\\nltk_data...\n",
      "[nltk_data]   Package punkt is already up-to-date!\n"
     ]
    }
   ],
   "source": [
    "import nltk\n",
    "nltk.download('punkt')\n",
    "from nltk.stem.porter import PorterStemmer\n",
    "stemmer = PorterStemmer()\n",
    "\n",
    "def tokenization(txt):\n",
    "    if pd.isna(txt):\n",
    "        txt = ''\n",
    "    tokens = nltk.word_tokenize(txt)\n",
    "    stemming = [stemmer.stem(w) for w in tokens]\n",
    "    return \" \".join(stemming)"
   ],
   "metadata": {
    "collapsed": false,
    "ExecuteTime": {
     "end_time": "2023-10-25T12:56:09.314605100Z",
     "start_time": "2023-10-25T12:56:09.279857400Z"
    }
   },
   "id": "d5910db8537d329d"
  },
  {
   "cell_type": "code",
   "execution_count": 14,
   "outputs": [],
   "source": [
    "df['Lyrics'] = df['Lyrics'].apply(lambda x: tokenization(x))"
   ],
   "metadata": {
    "collapsed": false,
    "ExecuteTime": {
     "end_time": "2023-10-25T12:56:20.291265Z",
     "start_time": "2023-10-25T12:56:14.317859500Z"
    }
   },
   "id": "29862ecdd392704a"
  },
  {
   "cell_type": "code",
   "execution_count": 16,
   "outputs": [],
   "source": [
    "from sklearn.feature_extraction.text import TfidfVectorizer\n",
    "from sklearn.metrics.pairwise import cosine_similarity"
   ],
   "metadata": {
    "collapsed": false,
    "ExecuteTime": {
     "end_time": "2023-10-25T12:57:09.500074900Z",
     "start_time": "2023-10-25T12:57:07.416224200Z"
    }
   },
   "id": "d88f9e7d0c6088c7"
  },
  {
   "cell_type": "code",
   "execution_count": 18,
   "outputs": [],
   "source": [
    "tfidvector = TfidfVectorizer(analyzer='word',stop_words='english')\n",
    "matrix = tfidvector.fit_transform(df['Lyrics'])\n",
    "similarity = cosine_similarity(matrix)"
   ],
   "metadata": {
    "collapsed": false,
    "ExecuteTime": {
     "end_time": "2023-10-25T12:57:24.953827200Z",
     "start_time": "2023-10-25T12:57:24.691683900Z"
    }
   },
   "id": "a646c13c337aa218"
  },
  {
   "cell_type": "code",
   "execution_count": 19,
   "outputs": [
    {
     "data": {
      "text/plain": "array([1.00000000e+00, 0.00000000e+00, 0.00000000e+00, 3.63452855e-03,\n       5.24493556e-04, 2.00101833e-03, 2.78062193e-03, 1.50236917e-02,\n       3.74330233e-03, 3.24501458e-03, 3.52685174e-03, 3.92939478e-02,\n       5.21423610e-03, 9.15927747e-03, 3.12978228e-03, 1.50236917e-02,\n       3.39228975e-03, 1.77080639e-03, 7.84493356e-04, 1.58414550e-02,\n       1.24969926e-02, 0.00000000e+00, 2.94806721e-03, 4.42156105e-03,\n       3.86471916e-03, 8.92811403e-03, 5.34003553e-03, 1.58414550e-02,\n       3.56719951e-03, 0.00000000e+00, 0.00000000e+00, 1.20230140e-02,\n       0.00000000e+00, 0.00000000e+00, 6.91827394e-03, 5.46277347e-03,\n       7.46249492e-03, 4.31179356e-03, 5.00910808e-03, 1.58414550e-02,\n       1.36741981e-02, 3.83244902e-03, 1.50236917e-02, 1.02303844e-02,\n       3.83293351e-03, 3.60450022e-03, 6.04918191e-03, 5.77574190e-03,\n       0.00000000e+00, 0.00000000e+00, 3.85943429e-03, 1.00000000e+00,\n       0.00000000e+00, 0.00000000e+00, 2.75112501e-03, 5.54537759e-03,\n       9.15927747e-03, 1.58414550e-02, 1.49087354e-02, 0.00000000e+00,\n       9.15927747e-03, 1.83979557e-02, 1.78509003e-02, 0.00000000e+00,\n       5.77574190e-03, 0.00000000e+00, 9.62075699e-03, 6.78357693e-03,\n       0.00000000e+00, 5.75479636e-03, 2.81911042e-02, 0.00000000e+00,\n       4.24680090e-03, 5.95178533e-03, 6.28548688e-03, 6.88878338e-03,\n       4.76171397e-03, 0.00000000e+00, 5.73469827e-03, 3.66685213e-03,\n       5.79240994e-03, 5.21618337e-03, 1.79957611e-03, 3.69270346e-03,\n       0.00000000e+00, 1.20159099e-01, 5.09202351e-03, 6.03072030e-04,\n       3.92939478e-02, 0.00000000e+00, 3.17742895e-03, 1.82466622e-02,\n       3.88468401e-03, 0.00000000e+00, 2.06041912e-02, 1.81873749e-03,\n       6.52125528e-03, 1.70809448e-02, 3.93312383e-03, 3.11493153e-02,\n       3.66363084e-03, 3.35866422e-03, 6.60415971e-04, 1.48392298e-02,\n       7.99237511e-03, 0.00000000e+00, 3.35992993e-03, 4.20662103e-03,\n       8.16383889e-02, 1.09360750e-02, 9.32221154e-03, 1.52952619e-02,\n       4.88786453e-03, 4.59358014e-03, 4.73066062e-03, 7.89964670e-03,\n       1.12201840e-02, 1.33005784e-02, 7.33919357e-03, 2.73591641e-03,\n       2.45130332e-03, 1.12592174e-02, 3.37687752e-03, 0.00000000e+00,\n       3.95234186e-03, 5.72518864e-03, 1.38032927e-02, 4.46766334e-03,\n       6.91857535e-03, 7.29633504e-03, 0.00000000e+00, 1.08505567e-02,\n       0.00000000e+00, 5.04331924e-03, 6.17702585e-03, 5.51819905e-03,\n       2.24663025e-03, 4.87632570e-03, 1.08939670e-02, 2.41915632e-03,\n       7.74974731e-03, 6.39480710e-03, 2.99910275e-03, 1.78806137e-03,\n       3.89134562e-03, 5.41967023e-03, 4.60154755e-03, 6.06595190e-03,\n       1.78318915e-02, 7.25971261e-03, 8.41128157e-03, 3.86393489e-03,\n       6.00473198e-03, 5.24830160e-03, 7.12907508e-03, 6.13512302e-03,\n       2.45518134e-03, 2.58329535e-03, 1.18735688e-02, 0.00000000e+00,\n       0.00000000e+00, 7.38660376e-03, 1.97875246e-03, 4.26461343e-04,\n       9.08853097e-04, 1.44460364e-03, 1.86800601e-02, 1.61182658e-02,\n       0.00000000e+00, 0.00000000e+00, 5.43593419e-03, 8.38590217e-03,\n       5.35576385e-03, 1.24643362e-01, 5.77574190e-03, 0.00000000e+00,\n       6.69960304e-03, 3.26135186e-03, 2.57650334e-03, 1.51391292e-03,\n       1.77710670e-03, 5.67126556e-03, 7.77170393e-02, 1.89116777e-02,\n       7.60841007e-02, 8.84176945e-02, 6.81446144e-03, 6.07728642e-03,\n       6.30844008e-03, 4.00391519e-03, 2.49008082e-02, 3.60768452e-02,\n       3.12507326e-03, 2.35636679e-02, 1.64696453e-02, 6.29216319e-02,\n       3.69704305e-02, 2.12490175e-02, 2.86977632e-02, 1.73547549e-02,\n       2.06986209e-02, 1.25790399e-03, 2.82576998e-03, 5.36272942e-03,\n       8.76899903e-03, 5.60005362e-03, 3.75710498e-02, 4.27502812e-04,\n       4.11607836e-02, 4.40429834e-03, 8.50780464e-03, 2.71271252e-02,\n       2.76382020e-03, 4.75673467e-02, 4.89598822e-03, 0.00000000e+00,\n       1.30478160e-02, 1.86829485e-02, 6.66180530e-03, 3.34085987e-02,\n       5.48495483e-03, 6.89088014e-03, 2.43388479e-03, 3.49162057e-03,\n       2.45495578e-02, 4.27921056e-02, 4.02724112e-03, 2.96874948e-03,\n       4.48710992e-02, 1.36271969e-03, 6.36571344e-03, 8.00536282e-03,\n       1.25790399e-03, 4.83732176e-03, 4.37892817e-03, 0.00000000e+00,\n       4.56877744e-03, 6.07728642e-03, 1.37139282e-02, 3.12507326e-03,\n       3.12339502e-03, 2.95309556e-03, 3.30133543e-03, 2.16290805e-03,\n       1.07275535e-02, 3.63801200e-03, 9.21886490e-03, 0.00000000e+00,\n       0.00000000e+00, 7.77170393e-02, 3.65906513e-03, 1.97004216e-02,\n       0.00000000e+00, 3.78372572e-03, 1.89116777e-02, 8.84176945e-02,\n       3.31158777e-02, 1.66662557e-03, 0.00000000e+00, 2.20435238e-03,\n       9.40814677e-03, 2.22070700e-03, 2.20047824e-03, 8.00536282e-03,\n       6.79507356e-03, 8.83166972e-03, 2.12952979e-03, 2.31325852e-03,\n       3.39955888e-03, 1.04317967e-01, 2.13615655e-02, 6.55194630e-03,\n       1.37664223e-02, 7.35365724e-03, 0.00000000e+00, 0.00000000e+00,\n       4.63921957e-03, 3.46940806e-03, 3.13273489e-02, 0.00000000e+00,\n       2.05810969e-03, 1.56778852e-02, 5.03238707e-03, 3.23673476e-03,\n       5.05560706e-03, 0.00000000e+00, 6.33607941e-03, 3.05862752e-03,\n       3.70825099e-03, 2.08291836e-02, 9.68237916e-03, 3.66133006e-03,\n       7.91603213e-03, 5.38194760e-03, 9.41423521e-03, 5.34312254e-03,\n       1.58944470e-02, 1.58944470e-02, 1.58944470e-02, 2.94717750e-02,\n       3.29877648e-02, 0.00000000e+00, 1.58944470e-02, 4.92368732e-02,\n       1.58944470e-02, 7.94286395e-03, 5.12578485e-03, 1.83537009e-02,\n       5.63144775e-02, 6.36571344e-03, 6.97746606e-03, 1.58944470e-02,\n       9.21654027e-03, 4.45197077e-03, 6.38261865e-03, 1.21693874e-02,\n       2.31812835e-03, 5.31371095e-03, 5.27991708e-03, 3.27016421e-03,\n       2.94034757e-03, 4.66324161e-03, 8.40898978e-03, 6.91793867e-03,\n       8.19592350e-03, 8.57973413e-03, 5.34871348e-03, 5.51569124e-03,\n       6.24560973e-03, 4.64310223e-03, 5.24780380e-03, 1.49938608e-03,\n       3.87311541e-03, 6.98707209e-03, 3.37228963e-03, 8.44103039e-03,\n       4.91539428e-03, 1.59748946e-02, 1.00337258e-02, 4.84373802e-03,\n       5.71982110e-03, 8.34613530e-03, 7.54990278e-03, 1.43194498e-02,\n       9.19871368e-03, 1.58944470e-02, 3.18373899e-03, 6.07728642e-03,\n       3.31646695e-03, 2.56391913e-03, 5.07023367e-02, 6.50538925e-03,\n       5.86487355e-03, 8.90748316e-03, 5.35444980e-03, 4.17804789e-03,\n       5.30287757e-03, 3.21118764e-03, 6.44976577e-03, 7.31601708e-03,\n       4.02724112e-03, 1.56538810e-03, 7.79412847e-03, 5.90657952e-03,\n       2.06986209e-02, 3.91055315e-02, 3.98150203e-03, 8.00502575e-02,\n       2.07740289e-03, 3.06666847e-03, 5.60531416e-03, 1.47033356e-03,\n       6.78825957e-03, 5.97485015e-03, 3.37263999e-03, 4.94242031e-02,\n       4.91303299e-03, 4.66104248e-03, 3.05030300e-02, 6.56056873e-03,\n       2.78536479e-03, 8.76899903e-03, 6.81446144e-03, 7.77170393e-02,\n       2.57804830e-02, 6.35792980e-03, 3.59454029e-03, 3.77858359e-03,\n       4.40797114e-02, 3.09334512e-03, 9.11877217e-04, 3.12722253e-03,\n       4.00386348e-03, 1.85750107e-02, 7.69707634e-03, 1.20727414e-02,\n       1.30478160e-02, 1.67156997e-02, 1.02111600e-03, 5.35065321e-03,\n       6.85450882e-03, 7.57081569e-02, 4.40797114e-02, 3.49882354e-03,\n       2.97497720e-03, 1.06745928e-02, 9.50318717e-03, 2.96874948e-03,\n       2.86977632e-02, 8.50780464e-03, 2.88768368e-02, 2.21459202e-03,\n       4.99455598e-03, 6.66465189e-03, 1.35693932e-03, 3.51061274e-03,\n       6.57694873e-03, 2.77803377e-03, 1.54071211e-02, 5.02500486e-03,\n       4.49063273e-03, 5.77306684e-03, 1.43593196e-02, 1.25790399e-03,\n       8.84176945e-02, 1.54071211e-02, 2.49008082e-02, 1.42872940e-03,\n       7.43997892e-03, 9.34114732e-03, 4.40429834e-03, 5.21633775e-03,\n       2.70661183e-02, 0.00000000e+00, 0.00000000e+00, 1.89116777e-02,\n       5.36272942e-03, 5.81376165e-03, 6.37581932e-03, 3.12507326e-03,\n       2.24462434e-03, 4.15006433e-03, 2.99306287e-02, 8.19475452e-03,\n       3.34085987e-02, 6.41032879e-03, 5.19649811e-03, 3.11053129e-03,\n       8.76899903e-03, 6.30844008e-03, 6.81446144e-03, 7.77170393e-02,\n       7.35170713e-03, 2.86977632e-02, 3.69704305e-02, 1.89116777e-02,\n       6.35792980e-03, 1.18735688e-02, 0.00000000e+00, 0.00000000e+00,\n       5.97133921e-03, 5.36272942e-03, 5.35444980e-03, 2.82576998e-03,\n       8.57123331e-03, 2.29538000e-03, 3.10144085e-03, 6.19301790e-03,\n       4.95252699e-02, 1.42875901e-02, 0.00000000e+00, 4.30127015e-03,\n       1.56538810e-03, 7.79412847e-03, 3.31646695e-03, 0.00000000e+00,\n       6.03507508e-03, 4.00391519e-03, 1.91162402e-03, 5.97183331e-03,\n       1.41551542e-02, 4.40429834e-03, 9.31230431e-03, 5.10523373e-03,\n       8.50545757e-03, 1.49545967e-02, 0.00000000e+00, 1.00768187e-02,\n       3.56495400e-03, 3.88200300e-03, 2.75417889e-01, 3.35430935e-02,\n       1.86829485e-02, 1.47033356e-03, 3.34085987e-02, 9.42229454e-04,\n       2.57804830e-02, 3.99250438e-03, 3.68703742e-03, 7.68205522e-03,\n       2.50440072e-01, 0.00000000e+00, 1.85750107e-02, 2.53861694e-02,\n       4.33163809e-03, 1.35693932e-03, 4.40797114e-02, 1.34321830e-02,\n       6.07728642e-03, 1.07275535e-02, 4.11301605e-03, 6.29216319e-02,\n       1.48442598e-02, 4.41495820e-03, 7.36856936e-03, 6.15680004e-03,\n       2.56391913e-03, 6.71292458e-03, 5.30273337e-03, 1.24161605e-02,\n       4.20078005e-03, 4.44834139e-03, 9.88086041e-03, 5.82015801e-03,\n       9.34114732e-03, 1.64696453e-02, 8.00536282e-03, 2.57432258e-03,\n       2.39555611e-02, 5.51189083e-03, 5.92711730e-03, 5.50547604e-03,\n       1.17001304e-02, 1.20727414e-02, 7.57081569e-02, 2.14585990e-03,\n       6.66180530e-03, 5.94469756e-03, 1.59777685e-02, 1.03973084e-02,\n       3.98150203e-03, 4.94819117e-03, 4.02724112e-03, 2.69862171e-03,\n       5.30287757e-03, 3.18373899e-03, 5.86487355e-03, 5.10115115e-02,\n       9.11877217e-04, 1.03080819e-02, 5.07023367e-02, 3.12507326e-03,\n       6.07728642e-03, 1.56538810e-03, 8.90748316e-03, 1.25790399e-03,\n       3.28785325e-03, 4.17804789e-03, 2.07740289e-03, 3.31158777e-02,\n       4.95252699e-02, 4.00391519e-03, 3.31646695e-03, 9.40814677e-03,\n       3.51061274e-03, 6.81446144e-03, 4.11607836e-02, 4.02724112e-03,\n       4.94242031e-02, 9.28553448e-03, 7.43997892e-03, 2.78536479e-03,\n       1.93839946e-02, 3.09334512e-03, 2.12490175e-02, 4.18500044e-03,\n       5.36272942e-03, 7.09336325e-03, 4.49725751e-03, 8.76899903e-03,\n       5.86487355e-03, 9.35527239e-03, 2.53586200e-03, 2.79215454e-03,\n       6.30844008e-03, 7.57081569e-02, 3.10144085e-03, 3.41401414e-03,\n       4.00386348e-03, 2.99012802e-03, 6.78825957e-03, 4.33163809e-03,\n       2.20067186e-03, 2.05810969e-03, 3.19631716e-03, 9.70933166e-03,\n       2.16290805e-03, 3.38161738e-03, 5.60005362e-03, 2.29538000e-03,\n       2.07219829e-03, 1.33307187e-03, 4.40429834e-03, 5.24369595e-03,\n       8.83166972e-03, 3.98150203e-03, 6.16778719e-03, 4.35262975e-03,\n       5.21633775e-03, 1.47033356e-03, 3.06787699e-03, 3.78372572e-03,\n       3.49162057e-03, 9.61301646e-03, 1.07275535e-02, 2.69862171e-03,\n       1.45653617e-02, 6.39688879e-03, 3.50735822e-03, 4.66597433e-04,\n       5.86717328e-03, 4.40797114e-02, 3.69704305e-02, 3.68208440e-03,\n       9.11877217e-04, 6.02152487e-03, 2.97497720e-03, 1.66662557e-03,\n       7.61922591e-03, 7.79412847e-03, 4.40797114e-02, 3.95428910e-03,\n       2.22164060e-03, 3.95242898e-03, 1.87701931e-02, 0.00000000e+00,\n       5.48495483e-03, 5.35444980e-03, 1.41315398e-03, 4.76979117e-03,\n       2.22070700e-03, 3.15617289e-03, 1.04317967e-01, 3.15108317e-03,\n       5.77306684e-03, 4.89598822e-03, 1.15335154e-03, 1.04012567e-01,\n       6.50017360e-03, 4.00391519e-03, 4.22235605e-03, 2.75109185e-03,\n       5.14034629e-03, 5.03984359e-03, 1.84550217e-03, 3.41401414e-03,\n       5.98099445e-03, 3.95428910e-03, 3.33348676e-03, 0.00000000e+00,\n       6.52415673e-03, 2.49276307e-03, 6.81208163e-03, 9.28553448e-03,\n       6.53402163e-03, 8.17495446e-03, 6.03624274e-03, 3.06778584e-03,\n       3.49162057e-03, 1.75868242e-03, 1.18978559e-02, 7.67731308e-02,\n       1.41315398e-03, 4.40429834e-03, 5.13887374e-04, 5.48495483e-03,\n       4.04755526e-03, 3.46380341e-03, 2.29574693e-03, 3.34085987e-02,\n       3.36945913e-03, 1.03889720e-02, 6.69799000e-02, 5.06523601e-03,\n       3.02473197e-03, 1.97929396e-02, 3.63381858e-03, 2.07219829e-03,\n       9.61153895e-03, 3.99325956e-03, 5.78953776e-03, 3.88200300e-03,\n       2.70705489e-03, 5.50586087e-03, 3.47257616e-03, 4.98324137e-03,\n       9.41709662e-03, 5.75884727e-03, 3.68208440e-03, 8.63018383e-03,\n       5.31508458e-03, 6.13466350e-03, 3.09737525e-03, 1.18069653e-03,\n       5.36272942e-03, 7.54055236e-02, 4.69053505e-03, 3.31192279e-03,\n       5.34115895e-03, 2.28838887e-03, 3.66762359e-03, 7.55566155e-03,\n       8.61322874e-03, 4.71462119e-03, 7.40226770e-03, 7.47477623e-03,\n       3.43977070e-04, 4.49416417e-03, 3.66731097e-03, 1.52952619e-02,\n       4.72459832e-03, 4.38646586e-03, 2.59134808e-03, 1.22104444e-03,\n       3.90668346e-03, 3.25446490e-03, 5.45526843e-03, 7.00846010e-02,\n       2.87111583e-03, 1.53215331e-03, 2.48855716e-03, 1.93839946e-02,\n       4.00063271e-02, 1.52952619e-02, 7.09572995e-03, 3.35567845e-03,\n       1.24939500e-02, 1.89007953e-02, 9.12150124e-03, 3.08300171e-03,\n       6.02207233e-03, 5.62608355e-03, 6.88309367e-03, 2.22559161e-02,\n       3.07602333e-03, 1.49416630e-02, 2.22559161e-02, 2.88700361e-03,\n       4.52410059e-03, 1.16891211e-03, 0.00000000e+00, 1.08331004e-03,\n       3.19691631e-02, 5.75213765e-03, 3.49148688e-03, 2.44908788e-03,\n       3.73766066e-03, 3.54955029e-03, 5.58777631e-03, 6.77007825e-03,\n       4.46591833e-03, 3.67507254e-02, 4.78067136e-03, 8.21762732e-03,\n       1.62749179e-02, 5.26543971e-03, 4.66196112e-03, 1.17759189e-02,\n       0.00000000e+00, 0.00000000e+00, 2.65840117e-03, 2.95056420e-03,\n       3.76181127e-03, 4.65398848e-03, 2.59558558e-03, 9.99351176e-03,\n       3.27265888e-02, 0.00000000e+00, 4.55433845e-03, 8.20933901e-02,\n       8.74947512e-03, 7.51391023e-03, 5.45767986e-03, 1.44826490e-03,\n       9.88521008e-03, 9.71054467e-03, 3.62369860e-03, 1.06812716e-03,\n       9.47048394e-03, 6.96792413e-03, 0.00000000e+00, 2.00247542e-02,\n       3.78293486e-03, 3.51916537e-03, 3.11034687e-02, 0.00000000e+00,\n       6.62568261e-03, 3.75331512e-03, 4.29233912e-03, 2.02707134e-03,\n       1.47675283e-03, 2.61491875e-03, 3.88798428e-03, 5.37291540e-03,\n       3.24308781e-03, 7.48917435e-02, 5.80621737e-03, 3.19691631e-02,\n       1.95516256e-03, 2.79291126e-03, 3.55988041e-03, 4.80430022e-03,\n       1.07355493e-02, 2.15560403e-02, 2.06986209e-02, 3.37795279e-03,\n       6.05886838e-03, 5.44923124e-03, 5.77156897e-03, 3.19766660e-03,\n       2.88350535e-03, 2.83494047e-03, 3.63873117e-03, 9.16498164e-04,\n       8.20933901e-02, 4.14197757e-03, 1.10608496e-02, 1.59792926e-03,\n       6.67500360e-03, 5.18348362e-03, 2.47908170e-03])"
     },
     "execution_count": 19,
     "metadata": {},
     "output_type": "execute_result"
    }
   ],
   "source": [
    "similarity[0]"
   ],
   "metadata": {
    "collapsed": false,
    "ExecuteTime": {
     "end_time": "2023-10-25T12:57:33.853074900Z",
     "start_time": "2023-10-25T12:57:33.836454800Z"
    }
   },
   "id": "acded486f4fd098c"
  },
  {
   "cell_type": "code",
   "execution_count": 22,
   "outputs": [
    {
     "data": {
      "text/plain": "                        Name       Artist    Album Popularity  \\\n0  Imagine - Remastered 2010  John Lennon  Imagine         79   \n\n                                              Lyrics Sentiment Music Styles  \\\n0  8 contributorsdiscographi 2021  pop & rock ly...       NaN          NaN   \n\n  Themes  \n0    NaN  ",
      "text/html": "<div>\n<style scoped>\n    .dataframe tbody tr th:only-of-type {\n        vertical-align: middle;\n    }\n\n    .dataframe tbody tr th {\n        vertical-align: top;\n    }\n\n    .dataframe thead th {\n        text-align: right;\n    }\n</style>\n<table border=\"1\" class=\"dataframe\">\n  <thead>\n    <tr style=\"text-align: right;\">\n      <th></th>\n      <th>Name</th>\n      <th>Artist</th>\n      <th>Album</th>\n      <th>Popularity</th>\n      <th>Lyrics</th>\n      <th>Sentiment</th>\n      <th>Music Styles</th>\n      <th>Themes</th>\n    </tr>\n  </thead>\n  <tbody>\n    <tr>\n      <th>0</th>\n      <td>Imagine - Remastered 2010</td>\n      <td>John Lennon</td>\n      <td>Imagine</td>\n      <td>79</td>\n      <td>8 contributorsdiscographi 2021  pop &amp; rock ly...</td>\n      <td>NaN</td>\n      <td>NaN</td>\n      <td>NaN</td>\n    </tr>\n  </tbody>\n</table>\n</div>"
     },
     "execution_count": 22,
     "metadata": {},
     "output_type": "execute_result"
    }
   ],
   "source": [
    "df[df['Name'] == 'Imagine - Remastered 2010']"
   ],
   "metadata": {
    "collapsed": false,
    "ExecuteTime": {
     "end_time": "2023-10-25T12:58:45.026508700Z",
     "start_time": "2023-10-25T12:58:44.986343700Z"
    }
   },
   "id": "815dbc578f0a6d5c"
  },
  {
   "cell_type": "code",
   "execution_count": 28,
   "outputs": [],
   "source": [
    "def recommendation(song_df):\n",
    "    idx = df[df['Name'] == song_df].index[0]\n",
    "    distances = sorted(list(enumerate(similarity[idx])),reverse=True,key=lambda x:x[1])\n",
    "    \n",
    "    songs = []\n",
    "    for m_id in distances[1:21]:\n",
    "        songs.append(df.iloc[m_id[0]]['Name'])\n",
    "        \n",
    "    return songs"
   ],
   "metadata": {
    "collapsed": false,
    "ExecuteTime": {
     "end_time": "2023-10-25T13:01:59.708976300Z",
     "start_time": "2023-10-25T13:01:59.699941700Z"
    }
   },
   "id": "f7312a292263ebe5"
  },
  {
   "cell_type": "code",
   "execution_count": 29,
   "outputs": [
    {
     "data": {
      "text/plain": "['You Send Me - Remastered',\n 'Princess Diana (with Nicki Minaj)',\n 'Superhero (Heroes & Villains) [with Future & Chris Brown]',\n 'Bellissima - Radio Edit',\n 'La Vie en rose',\n 'Évidemment',\n 'Évidemment',\n '10:35',\n 'Cupid - Twin Ver.',\n 'Cupid - Twin Ver.',\n 'Cupid - Twin Ver.',\n \"I Don't Like It, I Love It (feat. Robin Thicke & Verdine White)\",\n 'Where Are Ü Now (with Justin Bieber)',\n 'Tha Crossroads',\n \"I'm Not Here To Make Friends\",\n 'Ella Baila Sola',\n 'Ella Baila Sola',\n 'Ella Baila Sola',\n 'Ella Baila Sola',\n 'Down Under (feat. Colin Hay)']"
     },
     "execution_count": 29,
     "metadata": {},
     "output_type": "execute_result"
    }
   ],
   "source": [
    "recommendation('Imagine - Remastered 2010')"
   ],
   "metadata": {
    "collapsed": false,
    "ExecuteTime": {
     "end_time": "2023-10-25T13:02:02.206673800Z",
     "start_time": "2023-10-25T13:02:02.199161900Z"
    }
   },
   "id": "6d69cf124b16ba91"
  },
  {
   "cell_type": "code",
   "execution_count": 30,
   "outputs": [],
   "source": [
    "import pickle\n",
    "pickle.dump(similarity,open('similarity.pkl','wb'))\n",
    "pickle.dump(df,open('df.pkl','wb'))"
   ],
   "metadata": {
    "collapsed": false,
    "ExecuteTime": {
     "end_time": "2023-10-25T13:02:20.699947900Z",
     "start_time": "2023-10-25T13:02:20.670859900Z"
    }
   },
   "id": "e5e8251167c750ca"
  },
  {
   "cell_type": "code",
   "execution_count": null,
   "outputs": [],
   "source": [],
   "metadata": {
    "collapsed": false
   },
   "id": "4caa13acbc521a5c"
  }
 ],
 "metadata": {
  "kernelspec": {
   "display_name": "Python 3",
   "language": "python",
   "name": "python3"
  },
  "language_info": {
   "codemirror_mode": {
    "name": "ipython",
    "version": 2
   },
   "file_extension": ".py",
   "mimetype": "text/x-python",
   "name": "python",
   "nbconvert_exporter": "python",
   "pygments_lexer": "ipython2",
   "version": "2.7.6"
  }
 },
 "nbformat": 4,
 "nbformat_minor": 5
}
